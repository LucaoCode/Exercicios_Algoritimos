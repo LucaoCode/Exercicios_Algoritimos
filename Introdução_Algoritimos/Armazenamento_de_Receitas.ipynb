{
  "nbformat": 4,
  "nbformat_minor": 0,
  "metadata": {
    "colab": {
      "name": "av02_grupo_Chewbacca e Han Solo.ipynb",
      "provenance": [],
      "collapsed_sections": [],
      "include_colab_link": true
    },
    "kernelspec": {
      "name": "python3",
      "display_name": "Python 3"
    },
    "language_info": {
      "name": "python"
    }
  },
  "cells": [
    {
      "cell_type": "markdown",
      "metadata": {
        "id": "view-in-github",
        "colab_type": "text"
      },
      "source": [
        "<a href=\"https://colab.research.google.com/github/LucaoCode/Exercicios_Faculdade/blob/main/Introdu%C3%A7%C3%A3o_Algoritimos/Armazenamento_de_Receitas.ipynb\" target=\"_parent\"><img src=\"https://colab.research.google.com/assets/colab-badge.svg\" alt=\"Open In Colab\"/></a>"
      ]
    },
    {
      "cell_type": "markdown",
      "metadata": {
        "id": "FqpZKSJtiAvT"
      },
      "source": [
        "# Projeto de Algoritmos - Avaliação 2"
      ]
    },
    {
      "cell_type": "markdown",
      "metadata": {
        "id": "GWYJVm84iO3h"
      },
      "source": [
        "Alunos: Ronaldo Bueno e Lucas Lima \n",
        "\n"
      ]
    },
    {
      "cell_type": "markdown",
      "metadata": {
        "id": "v66OEqZhiggI"
      },
      "source": [
        "# Ideia: Sistema(aplicativo) para salvar receitas culinárias"
      ]
    },
    {
      "cell_type": "markdown",
      "metadata": {
        "id": "9KUwAvApim8U"
      },
      "source": [
        "\n",
        "\n",
        "A ideia que tivemos consiste em ser um sistema que guarde uma lista de receitas com todos os seus passos e ingredientes, possibilitando:\n",
        "\n",
        "\n",
        "*   Adicionar \n",
        "*   Vizualizar\n",
        "*   Remover\n",
        "\n",
        "Em qualquer receita da lista.\n",
        "\n",
        "Essa ideia foi pensada com base nas confeitarias em geral, para ajudar otimizar o processo de desenvolvimento das receitas.\n",
        "\n",
        "\n",
        "\n",
        "\n",
        "\n"
      ]
    },
    {
      "cell_type": "markdown",
      "metadata": {
        "id": "Y8zGSz1ji2JY"
      },
      "source": [
        "# Implementação"
      ]
    },
    {
      "cell_type": "code",
      "metadata": {
        "id": "jklYiUZfi5tO",
        "colab": {
          "base_uri": "https://localhost:8080/"
        },
        "outputId": "b96eb1d5-b1e6-425f-faba-c8c0e7cd4c67"
      },
      "source": [
        "list_revenues = []\n",
        "steps_revenues = []\n",
        "user_step = 0\n",
        "\n",
        "while(True):\n",
        "    if user_step == 1:\n",
        "        count = len(list_revenues)\n",
        "        if count:\n",
        "            print(f\"\\n[Listando {count} receitas]\")\n",
        "            for x in range(count):\n",
        "                print(f\"{x} - {list_revenues[x]}\")\n",
        "\n",
        "            recipe = int(input(\"\\nDigite a receita que você deseja visualizar: \"))\n",
        "\n",
        "            print(len(list_revenues))\n",
        "\n",
        "            if recipe >= len(list_revenues) or recipe < 0:\n",
        "                print(\"Receita não encontrada!\")\n",
        "            else:\n",
        "                print(f\"\\n» Receita: {list_revenues[recipe]} compostas por {len(steps_revenues[recipe])} passos:\")\n",
        "                for x in range(len(steps_revenues[recipe])):\n",
        "                    print(f\"{x+1}º passo: {steps_revenues[recipe][x]}\")\n",
        "                \n",
        "                decision = input(\"\\nDeseja voltar ao menu inicial? (sim ou não): \").lower()\n",
        "                if decision == \"sim\":\n",
        "                    user_step = 0;\n",
        "                else:\n",
        "                    break;\n",
        "        else:\n",
        "            print(\"\\nVocê ainda não adicionou nenhuma receita!\")\n",
        "            user_step = 0;\n",
        "    elif user_step == 2:\n",
        "        print(\"\\n---------------------[Adicionando receita]---------------------\\n\")\n",
        "        recipe_name = input(\"Digite o nome da receita: \")\n",
        "        recipe_steps = int(input(f\"Digite a quantidade de passos que essa receita vai ter(MÁXIMO 10!): \"))\n",
        "\n",
        "        if recipe_steps > 10:\n",
        "            recip_steps = 10;\n",
        "    \n",
        "        recipe_stepex = []\n",
        "\n",
        "        for x in range(recipe_steps):\n",
        "            recipe_stepex.append(input(f\"Digite o {x+1}º passo: \"))\n",
        "\n",
        "        list_revenues.append(recipe_name)\n",
        "        steps_revenues.append(recipe_stepex)\n",
        "        \n",
        "        user_step = 0\n",
        "        print(f\"\\nA receita {recipe_name} foi adicionada com sucesso!\")\n",
        "    elif user_step == 3:\n",
        "        if len(list_revenues) == 0:\n",
        "            print(\"\\nNão foi encontrado nenhuma receita!\")\n",
        "            user_step = 0;\n",
        "        else:\n",
        "            print(f\"\\n[Listando {count} receitas]\")\n",
        "            for x in range(count):\n",
        "                print(f\"{x} - {list_revenues[x]}\")\n",
        "\n",
        "            recipe = int(input(\"\\nDigite a receita que você deseja remover: \"))\n",
        "\n",
        "            if recipe >= len(list_revenues) or recipe < 0:\n",
        "                print(\"Receita não encontrada!\")\n",
        "            else:\n",
        "                print(f\"\\nVocê removeu a receita {list_revenues[recipe]}!\")\n",
        "\n",
        "                list_revenues.pop(recipe);\n",
        "                steps_revenues.pop(recipe);\n",
        "                \n",
        "            user_step = 0;      \n",
        "    elif user_step == 4:\n",
        "        break;\n",
        "    else:\n",
        "        print(\"\\n-----------------------[Receitas]-----------------------\")\n",
        "        print(f\"1 - Lista de receitas ({len(list_revenues)} receitas)\")\n",
        "        print(\"2 - Adicionar receita\")\n",
        "        print(\"3 - Remover receita\")\n",
        "        print(\"4 - Fechar\\n\")\n",
        "        \n",
        "        select = int(input(\"Digite o número que você deseja: \"))\n",
        "        user_step = select\n"
      ],
      "execution_count": null,
      "outputs": [
        {
          "output_type": "stream",
          "text": [
            "\n",
            "-----------------------[Receitas]-----------------------\n",
            "1 - Lista de receitas (0 receitas)\n",
            "2 - Adicionar receita\n",
            "3 - Remover receita\n",
            "4 - Fechar\n",
            "\n",
            "Digite o número que você deseja: 2\n",
            "\n",
            "---------------------[Adicionando receita]---------------------\n",
            "\n",
            "Digite o nome da receita: Teste loop\n",
            "Digite a quantidade de passos que essa receita vai ter(MÁXIMO 10!): 3\n",
            "Digite o 1º passo: Passo 1\n",
            "Digite o 2º passo: Passo 2\n",
            "Digite o 3º passo: Passo 3\n",
            "\n",
            "A receita Teste loop foi adicionada com sucesso!\n",
            "\n",
            "-----------------------[Receitas]-----------------------\n",
            "1 - Lista de receitas (1 receitas)\n",
            "2 - Adicionar receita\n",
            "3 - Remover receita\n",
            "4 - Fechar\n",
            "\n",
            "Digite o número que você deseja: 4\n"
          ],
          "name": "stdout"
        }
      ]
    }
  ]
}