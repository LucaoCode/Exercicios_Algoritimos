{
  "nbformat": 4,
  "nbformat_minor": 0,
  "metadata": {
    "colab": {
      "name": "Exercicios de Estrutura Sequencial Com Respostas.ipynb",
      "provenance": [],
      "collapsed_sections": [],
      "authorship_tag": "ABX9TyOTfoTZt9LquvBj3ev9gM7K",
      "include_colab_link": true
    },
    "kernelspec": {
      "name": "python3",
      "display_name": "Python 3"
    }
  },
  "cells": [
    {
      "cell_type": "markdown",
      "metadata": {
        "id": "view-in-github",
        "colab_type": "text"
      },
      "source": [
        "<a href=\"https://colab.research.google.com/github/LucaoCode/Exercicios_Faculdade/blob/main/Introdu%C3%A7%C3%A3o_Algoritimos/Exercicios_de_Estrutura_Sequencial.ipynb\" target=\"_parent\"><img src=\"https://colab.research.google.com/assets/colab-badge.svg\" alt=\"Open In Colab\"/></a>"
      ]
    },
    {
      "cell_type": "markdown",
      "metadata": {
        "id": "Th3bTlJvW9Qu"
      },
      "source": [
        "#Lista de Exercicios - link:https://wiki.python.org.br/ListaDeExercicios\n",
        "\n",
        "# Estrutura Sequencial\n",
        "\n",
        "*Obs: sem utilizar condicional IF ou ELSE,para o desenvolvimento dos exercicios*\n",
        "\n",
        "\n",
        "\n"
      ]
    },
    {
      "cell_type": "markdown",
      "metadata": {
        "id": "TOLus9KzYRwI"
      },
      "source": [
        "---\n",
        "**1.Faça um Programa que mostre a mensagem \"Alo mundo\" na tela.**"
      ]
    },
    {
      "cell_type": "code",
      "metadata": {
        "colab": {
          "base_uri": "https://localhost:8080/"
        },
        "id": "jWO9mIAYYY47",
        "outputId": "5f1f7007-236a-4e3a-9e39-3853da2c8e8e"
      },
      "source": [
        "#Print = a mostrar ou imprimir\n",
        "print('Hello world')"
      ],
      "execution_count": null,
      "outputs": [
        {
          "output_type": "stream",
          "text": [
            "Hello world\n"
          ],
          "name": "stdout"
        }
      ]
    },
    {
      "cell_type": "markdown",
      "metadata": {
        "id": "D5eMDnjaYlpL"
      },
      "source": [
        "---\n",
        "**2.Faça um Programa que peça um número e então mostre a mensagem O número informado foi [número].**"
      ]
    },
    {
      "cell_type": "code",
      "metadata": {
        "colab": {
          "base_uri": "https://localhost:8080/",
          "height": 52
        },
        "id": "pMdZJl52Yqse",
        "outputId": "2df0d0e5-743a-4974-aa26-2ed7a8ca5b97"
      },
      "source": [
        "#int transforma a string em um numero inteiro\n",
        "numero = int(input('Digite um numero '))\n",
        "'numero informado foi ' + str(numero)"
      ],
      "execution_count": null,
      "outputs": [
        {
          "output_type": "stream",
          "text": [
            "Digite um numero 10\n"
          ],
          "name": "stdout"
        },
        {
          "output_type": "execute_result",
          "data": {
            "application/vnd.google.colaboratory.intrinsic+json": {
              "type": "string"
            },
            "text/plain": [
              "'numero informado foi 10'"
            ]
          },
          "metadata": {
            "tags": []
          },
          "execution_count": 2
        }
      ]
    },
    {
      "cell_type": "markdown",
      "metadata": {
        "id": "_UVXfZQIY_zQ"
      },
      "source": [
        "---\n",
        "**3.Faça um Programa que peça dois números e imprima a soma.**"
      ]
    },
    {
      "cell_type": "code",
      "metadata": {
        "colab": {
          "base_uri": "https://localhost:8080/"
        },
        "id": "FPSsPFVWZFcv",
        "outputId": "35181ba0-0599-4ade-a0f7-c48f5bf59331"
      },
      "source": [
        "X = int(input('coloque um numero '))\n",
        "Y = int(input('coloque outro numero '))\n",
        "print(X + Y)"
      ],
      "execution_count": null,
      "outputs": [
        {
          "output_type": "stream",
          "text": [
            "coloque um numero 10\n",
            "coloque outro numero 8\n",
            "18\n"
          ],
          "name": "stdout"
        }
      ]
    },
    {
      "cell_type": "markdown",
      "metadata": {
        "id": "HNxX3QnoZQbK"
      },
      "source": [
        "---\n",
        "**4.Faça um Programa que peça as 4 notas bimestrais e mostre a média.**"
      ]
    },
    {
      "cell_type": "code",
      "metadata": {
        "colab": {
          "base_uri": "https://localhost:8080/"
        },
        "id": "VNKuwFq9ZUJ1",
        "outputId": "666afcdf-9828-46ab-ac41-fe3ab0c3a321"
      },
      "source": [
        "#float transforma a string em um numero flutuante como por exemplo 5.5\n",
        "N1= float(input('digite sua nota1 >>>'))\n",
        "N2= float(input('digite sua nota2 >>>'))\n",
        "N3= float(input('digite sua nota3 >>>'))\n",
        "N4= float(input('digite sua nota4 >>>'))\n",
        "Media = (N1 + N2 + N3 + N4)/4\n",
        "print(Media)\n"
      ],
      "execution_count": null,
      "outputs": [
        {
          "output_type": "stream",
          "text": [
            "digite sua nota1 >>>10\n",
            "digite sua nota2 >>>5.5\n",
            "digite sua nota3 >>>3\n",
            "digite sua nota4 >>>5\n",
            "5.875\n"
          ],
          "name": "stdout"
        }
      ]
    },
    {
      "cell_type": "markdown",
      "metadata": {
        "id": "sHHghiVAZzQs"
      },
      "source": [
        "--------------\n",
        "**5.Faça um Programa que converta metros para centímetros.**"
      ]
    },
    {
      "cell_type": "code",
      "metadata": {
        "colab": {
          "base_uri": "https://localhost:8080/"
        },
        "id": "zvB629KeZ2IT",
        "outputId": "78cd2964-74d3-4c60-89c8-72c907126cb3"
      },
      "source": [
        "Metros = float(input(\"Digite um numero em metros >>>\"))\n",
        "cm = Metros * 100\n",
        "print(cm)\n"
      ],
      "execution_count": null,
      "outputs": [
        {
          "output_type": "stream",
          "text": [
            "Digite um numero em metros >>>20\n",
            "2000.0\n"
          ],
          "name": "stdout"
        }
      ]
    },
    {
      "cell_type": "markdown",
      "metadata": {
        "id": "dN1Zlo-laA4c"
      },
      "source": [
        "------------------------------------------------------------------------\n",
        "**6.Faça um Programa que peça o raio de um círculo, calcule e mostre sua área.**"
      ]
    },
    {
      "cell_type": "code",
      "metadata": {
        "colab": {
          "base_uri": "https://localhost:8080/"
        },
        "id": "iDog_OfMaD2m",
        "outputId": "241b6261-7d18-43d1-e032-113d9689673f"
      },
      "source": [
        "raio = float(input('digite o raio que mostrarei a area >>>'))\n",
        "area = 3.14 * raio * raio\n",
        "print('aqui esta a sua area = ' + str(area) )"
      ],
      "execution_count": null,
      "outputs": [
        {
          "output_type": "stream",
          "text": [
            "digite o raio que mostrarei a area >>>5\n",
            "aqui esta a sua area = 78.5\n"
          ],
          "name": "stdout"
        }
      ]
    },
    {
      "cell_type": "markdown",
      "metadata": {
        "id": "wYfXz9ykaoqT"
      },
      "source": [
        "---------------------------------------------------------------------------\n",
        "**7.Faça um Programa que calcule a área de um quadrado, em seguida mostre o dobro desta área para o usuário**"
      ]
    },
    {
      "cell_type": "code",
      "metadata": {
        "colab": {
          "base_uri": "https://localhost:8080/"
        },
        "id": "gtKxWPIDathp",
        "outputId": "abf6e602-acca-4120-ce9a-7583080817d1"
      },
      "source": [
        "b = int(input('Digite a Base do quadrado >>>'))\n",
        "h = int(input('Digite a altura do quadrado >>>')) \n",
        "print('O dobro da área do quadrado é ' + str(2 * (b * h))) "
      ],
      "execution_count": null,
      "outputs": [
        {
          "output_type": "stream",
          "text": [
            "Digite a Base do quadrado >>>2\n",
            "Digite a altura do quadrado >>>2\n",
            "O dobro da área do quadrado é 8\n"
          ],
          "name": "stdout"
        }
      ]
    },
    {
      "cell_type": "markdown",
      "metadata": {
        "id": "L-3vI2DNdXUy"
      },
      "source": [
        "----------------------------------------------------------------------------\n",
        "**8. Faça um Programa que pergunte quanto você ganha por hora e o número de horas trabalhadas no mês. Calcule e mostre o total do seu salário no referido mês.**"
      ]
    },
    {
      "cell_type": "code",
      "metadata": {
        "colab": {
          "base_uri": "https://localhost:8080/"
        },
        "id": "SneLVS97de38",
        "outputId": "f37611f7-d7bf-4d6d-9cf2-d5c8e8255276"
      },
      "source": [
        "x = float(input('Digite quanto vc ganha por hora >>>'))\n",
        "y = float(input('Digite o numero de horas que vc trabalha no mês >>>'))\n",
        "print('O seu salario do mês é R$' + str(y * x))"
      ],
      "execution_count": null,
      "outputs": [
        {
          "output_type": "stream",
          "text": [
            "Digite quanto vc ganha por hora >>>10\n",
            "Digite o numero de horas que vc trabalha no mês >>>220\n",
            "O seu salario do mês é R$2200.0\n"
          ],
          "name": "stdout"
        }
      ]
    },
    {
      "cell_type": "markdown",
      "metadata": {
        "id": "WaMO_ztnhtUP"
      },
      "source": [
        "-----------------------------------------------------------------------------\n",
        "**9. Faça um Programa que peça a temperatura em graus Fahrenheit, transforme e mostre a temperatura em graus Celsius.\n",
        "C = 5 * ((F-32) / 9).**"
      ]
    },
    {
      "cell_type": "code",
      "metadata": {
        "colab": {
          "base_uri": "https://localhost:8080/"
        },
        "id": "tgEwIElohw_f",
        "outputId": "d77266bb-d863-465f-c005-34cfe5d1c4d7"
      },
      "source": [
        "F =  float(input('Digite a temperatura em graus Fahrenheit >>>'))\n",
        "print('A temperatura convertida em Graus Celsius é ' + str(5*(F-32)/9))\n"
      ],
      "execution_count": null,
      "outputs": [
        {
          "output_type": "stream",
          "text": [
            "Digite a temperatura em graus Fahrenheit >>>100\n",
            "A temperatura convertida em Graus Celsius é 37.77777777777778\n"
          ],
          "name": "stdout"
        }
      ]
    },
    {
      "cell_type": "markdown",
      "metadata": {
        "id": "DsGRzz-JpmBv"
      },
      "source": [
        "----------------------------------------------------------------------------\n",
        "**10. Faça um Programa que peça a temperatura em graus Celsius, transforme e mostre em graus Fahrenheit.**"
      ]
    },
    {
      "cell_type": "code",
      "metadata": {
        "colab": {
          "base_uri": "https://localhost:8080/"
        },
        "id": "Q7ZohGv1p3Qe",
        "outputId": "cd8c127f-05f3-4b25-e21f-9dc68b58fb62"
      },
      "source": [
        "C = float(input('Digite os graus Celsius >>>'))\n",
        "print('a temperatura em Fahrenheit é ' + str((C * 9)/5 + 32))"
      ],
      "execution_count": null,
      "outputs": [
        {
          "output_type": "stream",
          "text": [
            "Digite os graus Celsius >>>50\n",
            "a temperatura em Fahrenheit é 122.0\n"
          ],
          "name": "stdout"
        }
      ]
    },
    {
      "cell_type": "markdown",
      "metadata": {
        "id": "JEK0z3yrsO14"
      },
      "source": [
        "------------------------------------------------------------------------------\n",
        "**11.Faça um Programa que peça 2 números inteiros e um número real. Calcule e mostre:**<p>\n",
        "a. o produto do dobro do primeiro com metade do segundo <p>\n",
        "b. a soma do triplo do primeiro com o terceiro.<p>\n",
        "c. o terceiro elevado ao cubo."
      ]
    },
    {
      "cell_type": "code",
      "metadata": {
        "colab": {
          "base_uri": "https://localhost:8080/"
        },
        "id": "bW0Z9llJsW30",
        "outputId": "974e2c70-4e2f-4278-afbd-1d9f01c8d27a"
      },
      "source": [
        "X = int(input('Digite um numero inteiro >>>'))\n",
        "Y = int(input('Digite outro numero inteiro >>>'))\n",
        "Z = float(input('Digite um numero real >>>'))\n",
        "\n",
        "print('Resposta a: ' + str(2*X/Y*0.5))\n",
        "print('Resposta b: '+ str(X*3 + Z))\n",
        "print('Resposta c: '+ str(Z**3 ))\n",
        "\n"
      ],
      "execution_count": null,
      "outputs": [
        {
          "output_type": "stream",
          "text": [
            "Digite um numero inteiro >>>1\n",
            "Digite outro numero inteiro >>>1\n",
            "Digite um numero real >>>2.5\n",
            "Resposta a: 1.0\n",
            "Resposta b: 5.5\n",
            "Resposta c: 15.625\n"
          ],
          "name": "stdout"
        }
      ]
    },
    {
      "cell_type": "markdown",
      "metadata": {
        "id": "-IhPgIe08OEe"
      },
      "source": [
        "-------------------------------------------------------------------------------\n",
        "**12.Tendo como dados de entrada a altura de uma pessoa, construa um algoritmo que calcule seu peso ideal, usando a seguinte fórmula: (72.7*altura) - 58**"
      ]
    },
    {
      "cell_type": "code",
      "metadata": {
        "id": "ksi_zSAp8l1p",
        "colab": {
          "base_uri": "https://localhost:8080/"
        },
        "outputId": "43f720b0-a511-4081-ccb4-90da7c5b25a5"
      },
      "source": [
        "altura = float(input('Digite a sua altura >>> '))\n",
        "print('O seu peso ideal é ' + str((72.7*altura)- 58))"
      ],
      "execution_count": null,
      "outputs": [
        {
          "output_type": "stream",
          "text": [
            "Digite a sua altura >>> 1.90\n",
            "O seu peso ideal é 80.13\n"
          ],
          "name": "stdout"
        }
      ]
    },
    {
      "cell_type": "markdown",
      "metadata": {
        "id": "26v3PJrY-39z"
      },
      "source": [
        "---------------------------------------------------------------------------\n",
        "**13.Tendo como dado de entrada a altura (h) de uma pessoa, construa um algoritmo que calcule seu peso ideal, utilizando as seguintes fórmulas:**<p>\n",
        "Para homens: (72.7*h) - 58<p>\n",
        "Para mulheres: (62.1*h) - 44.7"
      ]
    },
    {
      "cell_type": "code",
      "metadata": {
        "id": "zIRJPd1Pm1Oi",
        "colab": {
          "base_uri": "https://localhost:8080/"
        },
        "outputId": "a0d6b18e-adf5-4d92-af15-dec8821b112e"
      },
      "source": [
        "#Sem  urilizar condicionais if e else,melhor caminho para isso foi utilizar os dois calculos ao msm tempo\n",
        "H = float(input('Digite sua altura >>> '))\n",
        "ph = (72.7*H) - 58\n",
        "pm = (62.1*H) - 44.7\n",
        "print('A seu peso masculino é >>> ' + str(ph))\n",
        "print('A seu peso feminino é >>> ' + str(pm))"
      ],
      "execution_count": null,
      "outputs": [
        {
          "output_type": "stream",
          "text": [
            "Digite sua altura >>> 2.00\n",
            "A seu peso masculino é >>> 87.4\n",
            "A seu peso feminino é >>> 79.5\n"
          ],
          "name": "stdout"
        }
      ]
    },
    {
      "cell_type": "markdown",
      "metadata": {
        "id": "mNMK_4QE_G-4"
      },
      "source": [
        "-------------------------------------------------------------------------------\n",
        "**14.João Papo-de-Pescador, homem de bem, comprou um microcomputador para controlar o rendimento diário de seu trabalho. Toda vez que ele traz um peso de peixes maior que o estabelecido pelo regulamento de pesca do estado de São Paulo (50 quilos) deve pagar uma multa de R$ 4,00 por quilo excedente. João precisa que você faça um programa que leia a variável peso (peso de peixes) e calcule o excesso. Gravar na variável excesso a quantidade de quilos além do limite e na variável multa o valor da multa que João deverá pagar. Imprima os dados do programa com as mensagens adequadas.**"
      ]
    },
    {
      "cell_type": "code",
      "metadata": {
        "id": "HT38XcKK_Q4p",
        "colab": {
          "base_uri": "https://localhost:8080/"
        },
        "outputId": "1d8bfa2b-9e49-4969-e82c-de3cd6e1c9b9"
      },
      "source": [
        "peso_de_peixe = float(input('Digite o peso dos peixes que pescou '))\n",
        "foi_excesso = int(peso_de_peixe > 50)\n",
        "excesso = (peso_de_peixe - 50) * foi_excesso\n",
        "multa = excesso * 4\n",
        "print('valor da multa é R$ ' + str(multa))"
      ],
      "execution_count": null,
      "outputs": [
        {
          "output_type": "stream",
          "text": [
            "Digite o peso dos peixes que pescou 55\n",
            "valor da multa é R$ 20.0\n"
          ],
          "name": "stdout"
        }
      ]
    },
    {
      "cell_type": "markdown",
      "metadata": {
        "id": "cpZsvK95_R-n"
      },
      "source": [
        "-------------------------------------------------------------------------------\n",
        "**15.Faça um Programa que pergunte quanto você ganha por hora e o número de horas trabalhadas no mês. Calcule e mostre o total do seu salário no referido mês, sabendo-se que são descontados 11% para o Imposto de Renda, 8% para o INSS e 5% para o sindicato, faça um programa que nos dê:**<p>\n",
        "salário bruto.<p>\n",
        "quanto pagou ao INSS.<p>\n",
        "quanto pagou ao sindicato.<p>\n",
        "o salário líquido.<p>\n",
        "**calcule os descontos e o salário líquido, conforme a tabela abaixo:**<p>\n",
        "*Obs.: Salário Bruto - Descontos = Salário Líquido.*"
      ]
    },
    {
      "cell_type": "code",
      "metadata": {
        "id": "4xI_lvNg__-J",
        "colab": {
          "base_uri": "https://localhost:8080/"
        },
        "outputId": "9f8e0239-2cc8-4de1-dc70-fc84f11851be"
      },
      "source": [
        "#Entradas\n",
        "ganhos = float(input('Digite o quanto que vc ganha por horas trabalhadas no mês>>> '))\n",
        "horas = int(input('Quantas horas vc trabalha no mês >>> '))\n",
        "#Processamento\n",
        "salario_bruto = horas*ganhos\n",
        "Descontos_inss = salario_bruto*0.08\n",
        "Descontos_sindicato = salario_bruto*0.05\n",
        "Descontos_imposto_de_Renda = salario_bruto*0.11\n",
        "Descontos_totais= (salario_bruto*0.11) - (salario_bruto*0.05) - (salario_bruto*0.08)\n",
        "#Saidas\n",
        "print(salario_bruto)\n",
        "print('salario_bruto com o abate do INSS: ' + str(salario_bruto*0.08))\n",
        "print('salario_bruto com o abate do Imposto de renda: ' + str(salario_bruto*0.11))\n",
        "print('salario_bruto com o abate do sindicato: ' + str(salario_bruto*0.05))\n",
        "print('salario liquido R$' + str(salario_bruto - Descontos_inss - Descontos_sindicato - Descontos_imposto_de_Renda))"
      ],
      "execution_count": null,
      "outputs": [
        {
          "output_type": "stream",
          "text": [
            "Digite o quanto que vc ganha por horas trabalhadas no mês>>> 10\n",
            "Quantas horas vc trabalha no mês >>> 220\n",
            "2200.0\n",
            "salario_bruto com o abate do INSS: 176.0\n",
            "salario_bruto com o abate do Imposto de renda: 242.0\n",
            "salario_bruto com o abate do sindicato: 110.0\n",
            "salario liquido R$1672.0\n"
          ],
          "name": "stdout"
        }
      ]
    },
    {
      "cell_type": "markdown",
      "metadata": {
        "id": "xx-6WD10vIXl"
      },
      "source": [
        "-------------------------------------------------------------------------------\n",
        "**16.Faça um programa para uma loja de tintas. O programa deverá pedir o tamanho em metros quadrados da área a ser pintada. Considere que a cobertura da tinta é de 1 litro para cada 3 metros quadrados e que a tinta é vendida em latas de 18 litros, que custam R$ 80,00. Informe ao usuário a quantidades de latas de tinta a serem compradas e o preço total.**"
      ]
    },
    {
      "cell_type": "code",
      "metadata": {
        "id": "n-2hXi9RvMjw",
        "colab": {
          "base_uri": "https://localhost:8080/"
        },
        "outputId": "f0b30d27-8233-48f9-93ab-04c96a142933"
      },
      "source": [
        "#A dificuldade dessa questão é o arredondamento dos preços e das latas, aconselho que estimulem a logica\n",
        "#tentem nao utilizar condicionais como round\n",
        "\n",
        "metros = int(input(\"Digite a quantidade de metros quadrados a serem pintados: \"))\n",
        "litros = metros/3\n",
        "\n",
        "precoL = 80.0\n",
        "capacidadeL = 18\n",
        "\n",
        "latas = round((litros+18) / capacidadeL,0)\n",
        "total = latas * precoL\n",
        "\n",
        "print('Você usara ',latas,'latas de tinta')\n",
        "print('O preco total é de: R$',round(total,0))"
      ],
      "execution_count": 16,
      "outputs": [
        {
          "output_type": "stream",
          "text": [
            "Digite a quantidade de metros quadrados a serem pintados: 35\n",
            "Você usara  2.0 latas de tinta\n",
            "O preco total é de: R$ 160.0\n"
          ],
          "name": "stdout"
        }
      ]
    },
    {
      "cell_type": "markdown",
      "metadata": {
        "id": "F-vfeLyAA25L"
      },
      "source": [
        "-------------------------------------------------------------------------------\n",
        "**17.Faça um Programa para uma loja de tintas. O programa deverá pedir o tamanho em metros quadrados da área a ser pintada. Considere que a cobertura da tinta é de 1 litro para cada 6 metros quadrados e que a tinta é vendida em latas de 18 litros, que custam 80,00 reais ou em galões de 3,6 litros, que custam 25,00 reais.\n",
        "Informe ao usuário as quantidades de tinta a serem compradas e os respectivos preços em 3 situações:**<p>\n",
        "comprar apenas latas de 18 litros;<p>\n",
        "comprar apenas galões de 3,6 litros;<p>\n",
        "**misturar latas e galões, de forma que o desperdício de tinta seja menor. Acrescente 10% de folga e sempre arredonde os valores para cima, isto é, considere latas cheias.**"
      ]
    },
    {
      "cell_type": "code",
      "metadata": {
        "id": "bwrY9V5MBUWm",
        "colab": {
          "base_uri": "https://localhost:8080/"
        },
        "outputId": "8d93143f-9746-4862-ab57-b368e1ef5d76"
      },
      "source": [
        "#exercicio incompleto faltando os 10% de folga\n",
        "\n",
        "lataVend = 18\n",
        "valorLatVend = 80.00\n",
        "GalVend = 3.6\n",
        "valorGal = 25.00\n",
        "\n",
        "tamanho = float(input(\"Digite o tamanho em metros quadrados da área a ser pintada\"))\n",
        "\n",
        "totalLata18 = int(tamanho / (lataVend * 6))\n",
        "totalGalao36 = int(tamanho / (GalVend * 6))\n",
        "\n",
        "print(totalLata18)\n",
        "print(totalGalao36)\n",
        "\n"
      ],
      "execution_count": null,
      "outputs": [
        {
          "output_type": "stream",
          "text": [
            "Digite o tamanho em metros quadrados da área a ser pintada108\n",
            "1\n",
            "5\n"
          ],
          "name": "stdout"
        }
      ]
    },
    {
      "cell_type": "markdown",
      "metadata": {
        "id": "soNKyGXmBV3f"
      },
      "source": [
        "---------------------------------------------------------------------\n",
        "**18.Faça um programa que peça o tamanho de um arquivo para download (em MB) e a velocidade de um link de Internet (em Mbps), calcule e informe o tempo aproximado de download do arquivo usando este link (em minutos).**"
      ]
    },
    {
      "cell_type": "code",
      "metadata": {
        "id": "1fpZicufBbB-",
        "colab": {
          "base_uri": "https://localhost:8080/"
        },
        "outputId": "ed9e89a7-25bb-4d82-ab51-9562cc3ec405"
      },
      "source": [
        "tamanho = int(input('Digite o tamanho do arquivo em MB: >>> '))\n",
        "velocidade = int(input('Digite a velocidade da sua internet em Mbps: >> '))\n",
        "X = tamanho/velocidade\n",
        "print('Seu tempo aproximado em segundos é de: ' + str(X/8))"
      ],
      "execution_count": null,
      "outputs": [
        {
          "output_type": "stream",
          "text": [
            "Digite o tamanho do arquivo em MB: >>> 4\n",
            "Digite a velocidade da sua internet em Mbps: >> 300\n",
            "Seu tempo aproximado em segundos é de: 0.0016666666666666668\n"
          ],
          "name": "stdout"
        }
      ]
    },
    {
      "cell_type": "code",
      "metadata": {
        "id": "UF6k7m3_E9xj"
      },
      "source": [
        ""
      ],
      "execution_count": null,
      "outputs": []
    }
  ]
}